{
 "cells": [
  {
   "attachments": {},
   "cell_type": "markdown",
   "metadata": {},
   "source": [
    "### AUTO PEDESTRIAN DATASET - EDA"
   ]
  },
  {
   "cell_type": "code",
   "execution_count": 1,
   "metadata": {},
   "outputs": [
    {
     "ename": "ModuleNotFoundError",
     "evalue": "No module named 'ipywidgets'",
     "output_type": "error",
     "traceback": [
      "\u001b[1;31m---------------------------------------------------------------------------\u001b[0m",
      "\u001b[1;31mModuleNotFoundError\u001b[0m                       Traceback (most recent call last)",
      "\u001b[1;32md:\\Exploratory Data Analysis\\Auto Pedestrian Dataset\\Auto_pedestrian_data_analysis.ipynb Cell 2\u001b[0m in \u001b[0;36m<cell line: 7>\u001b[1;34m()\u001b[0m\n\u001b[0;32m      <a href='vscode-notebook-cell:/d%3A/Exploratory%20Data%20Analysis/Auto%20Pedestrian%20Dataset/Auto_pedestrian_data_analysis.ipynb#W1sZmlsZQ%3D%3D?line=4'>5</a>\u001b[0m \u001b[39mimport\u001b[39;00m \u001b[39mseaborn\u001b[39;00m \u001b[39mas\u001b[39;00m \u001b[39msns\u001b[39;00m\n\u001b[0;32m      <a href='vscode-notebook-cell:/d%3A/Exploratory%20Data%20Analysis/Auto%20Pedestrian%20Dataset/Auto_pedestrian_data_analysis.ipynb#W1sZmlsZQ%3D%3D?line=5'>6</a>\u001b[0m \u001b[39mimport\u001b[39;00m \u001b[39mwarnings\u001b[39;00m\n\u001b[1;32m----> <a href='vscode-notebook-cell:/d%3A/Exploratory%20Data%20Analysis/Auto%20Pedestrian%20Dataset/Auto_pedestrian_data_analysis.ipynb#W1sZmlsZQ%3D%3D?line=6'>7</a>\u001b[0m \u001b[39mimport\u001b[39;00m \u001b[39mipywidgets\u001b[39;00m \u001b[39mas\u001b[39;00m \u001b[39mwidgets\u001b[39;00m\n\u001b[0;32m      <a href='vscode-notebook-cell:/d%3A/Exploratory%20Data%20Analysis/Auto%20Pedestrian%20Dataset/Auto_pedestrian_data_analysis.ipynb#W1sZmlsZQ%3D%3D?line=7'>8</a>\u001b[0m \u001b[39mfrom\u001b[39;00m \u001b[39mipywidgets\u001b[39;00m \u001b[39mimport\u001b[39;00m interact, interactive\n\u001b[0;32m     <a href='vscode-notebook-cell:/d%3A/Exploratory%20Data%20Analysis/Auto%20Pedestrian%20Dataset/Auto_pedestrian_data_analysis.ipynb#W1sZmlsZQ%3D%3D?line=9'>10</a>\u001b[0m warnings\u001b[39m.\u001b[39mfilterwarnings(\u001b[39m'\u001b[39m\u001b[39mignore\u001b[39m\u001b[39m'\u001b[39m)\n",
      "\u001b[1;31mModuleNotFoundError\u001b[0m: No module named 'ipywidgets'"
     ]
    }
   ],
   "source": [
    "#importing dependecies\n",
    "import pandas as pd\n",
    "import numpy as np\n",
    "import matplotlib.pyplot as plt\n",
    "import seaborn as sns\n",
    "import warnings\n",
    "import ipywidgets as widgets\n",
    "from ipywidgets import interact, interactive\n",
    "\n",
    "warnings.filterwarnings('ignore')\n",
    "%matplotlib inline"
   ]
  },
  {
   "cell_type": "code",
   "execution_count": null,
   "metadata": {},
   "outputs": [
    {
     "data": {
      "text/html": [
       "<div>\n",
       "<style scoped>\n",
       "    .dataframe tbody tr th:only-of-type {\n",
       "        vertical-align: middle;\n",
       "    }\n",
       "\n",
       "    .dataframe tbody tr th {\n",
       "        vertical-align: top;\n",
       "    }\n",
       "\n",
       "    .dataframe thead th {\n",
       "        text-align: right;\n",
       "    }\n",
       "</style>\n",
       "<table border=\"1\" class=\"dataframe\">\n",
       "  <thead>\n",
       "    <tr style=\"text-align: right;\">\n",
       "      <th></th>\n",
       "      <th>Crash Year</th>\n",
       "      <th>Crash Month</th>\n",
       "      <th>Crash Day</th>\n",
       "      <th>Time of Day</th>\n",
       "      <th>Day of Week</th>\n",
       "      <th>City or Township</th>\n",
       "      <th>Crash: Intersection</th>\n",
       "      <th>Crash: Hit-and-Run</th>\n",
       "      <th>Lighting Conditions</th>\n",
       "      <th>Weather Conditions (2016+)</th>\n",
       "      <th>Speed Limit at Crash Site</th>\n",
       "      <th>Worst Injury in Crash</th>\n",
       "      <th>Party Type</th>\n",
       "      <th>Person Age</th>\n",
       "      <th>Person Gender</th>\n",
       "    </tr>\n",
       "  </thead>\n",
       "  <tbody>\n",
       "    <tr>\n",
       "      <th>0</th>\n",
       "      <td>2018</td>\n",
       "      <td>February</td>\n",
       "      <td>1</td>\n",
       "      <td>9:00 AM - 10:00 AM</td>\n",
       "      <td>Thursday</td>\n",
       "      <td>Wayne County: Detroit</td>\n",
       "      <td>Not intersection crash</td>\n",
       "      <td>Hit-and-run</td>\n",
       "      <td>Daylight</td>\n",
       "      <td>Clear</td>\n",
       "      <td>35</td>\n",
       "      <td>Suspected minor injury (B)</td>\n",
       "      <td>Motor vehicle driver</td>\n",
       "      <td>DOB invalid</td>\n",
       "      <td>Uncoded &amp; errors</td>\n",
       "    </tr>\n",
       "    <tr>\n",
       "      <th>1</th>\n",
       "      <td>2018</td>\n",
       "      <td>February</td>\n",
       "      <td>1</td>\n",
       "      <td>7:00 PM - 8:00 PM</td>\n",
       "      <td>Thursday</td>\n",
       "      <td>Wayne County: Detroit</td>\n",
       "      <td>Not intersection crash</td>\n",
       "      <td>Hit-and-run</td>\n",
       "      <td>Dark lighted</td>\n",
       "      <td>Clear</td>\n",
       "      <td>30</td>\n",
       "      <td>Suspected serious injury (A)</td>\n",
       "      <td>Motor vehicle driver</td>\n",
       "      <td>44</td>\n",
       "      <td>Female</td>\n",
       "    </tr>\n",
       "    <tr>\n",
       "      <th>2</th>\n",
       "      <td>2018</td>\n",
       "      <td>February</td>\n",
       "      <td>1</td>\n",
       "      <td>11:00 AM - 12:00 noon</td>\n",
       "      <td>Thursday</td>\n",
       "      <td>Wayne County: Detroit</td>\n",
       "      <td>Intersection crash</td>\n",
       "      <td>Hit-and-run</td>\n",
       "      <td>Daylight</td>\n",
       "      <td>Cloudy</td>\n",
       "      <td>30</td>\n",
       "      <td>Possible injury (C)</td>\n",
       "      <td>Motor vehicle driver</td>\n",
       "      <td>DOB invalid</td>\n",
       "      <td>Uncoded &amp; errors</td>\n",
       "    </tr>\n",
       "    <tr>\n",
       "      <th>3</th>\n",
       "      <td>2018</td>\n",
       "      <td>February</td>\n",
       "      <td>1</td>\n",
       "      <td>6:00 PM - 7:00 PM</td>\n",
       "      <td>Thursday</td>\n",
       "      <td>Wayne County: Detroit</td>\n",
       "      <td>Intersection crash</td>\n",
       "      <td>Hit-and-run</td>\n",
       "      <td>Dark lighted</td>\n",
       "      <td>Clear</td>\n",
       "      <td>30</td>\n",
       "      <td>Suspected minor injury (B)</td>\n",
       "      <td>Motor vehicle driver</td>\n",
       "      <td>DOB invalid</td>\n",
       "      <td>Uncoded &amp; errors</td>\n",
       "    </tr>\n",
       "    <tr>\n",
       "      <th>4</th>\n",
       "      <td>2018</td>\n",
       "      <td>March</td>\n",
       "      <td>1</td>\n",
       "      <td>2:00 PM - 3:00 PM</td>\n",
       "      <td>Thursday</td>\n",
       "      <td>Wayne County: Detroit</td>\n",
       "      <td>Not intersection crash</td>\n",
       "      <td>Hit-and-run</td>\n",
       "      <td>Daylight</td>\n",
       "      <td>Snow</td>\n",
       "      <td>25</td>\n",
       "      <td>No injury (O)</td>\n",
       "      <td>Motor vehicle driver</td>\n",
       "      <td>DOB invalid</td>\n",
       "      <td>Uncoded &amp; errors</td>\n",
       "    </tr>\n",
       "  </tbody>\n",
       "</table>\n",
       "</div>"
      ],
      "text/plain": [
       "   Crash Year Crash Month  Crash Day            Time of Day Day of Week  \\\n",
       "0        2018    February          1     9:00 AM - 10:00 AM    Thursday   \n",
       "1        2018    February          1      7:00 PM - 8:00 PM    Thursday   \n",
       "2        2018    February          1  11:00 AM - 12:00 noon    Thursday   \n",
       "3        2018    February          1      6:00 PM - 7:00 PM    Thursday   \n",
       "4        2018       March          1      2:00 PM - 3:00 PM    Thursday   \n",
       "\n",
       "        City or Township     Crash: Intersection Crash: Hit-and-Run  \\\n",
       "0  Wayne County: Detroit  Not intersection crash        Hit-and-run   \n",
       "1  Wayne County: Detroit  Not intersection crash        Hit-and-run   \n",
       "2  Wayne County: Detroit      Intersection crash        Hit-and-run   \n",
       "3  Wayne County: Detroit      Intersection crash        Hit-and-run   \n",
       "4  Wayne County: Detroit  Not intersection crash        Hit-and-run   \n",
       "\n",
       "  Lighting Conditions Weather Conditions (2016+) Speed Limit at Crash Site  \\\n",
       "0            Daylight                      Clear                        35   \n",
       "1        Dark lighted                      Clear                        30   \n",
       "2            Daylight                     Cloudy                        30   \n",
       "3        Dark lighted                      Clear                        30   \n",
       "4            Daylight                       Snow                        25   \n",
       "\n",
       "          Worst Injury in Crash            Party Type   Person Age  \\\n",
       "0    Suspected minor injury (B)  Motor vehicle driver  DOB invalid   \n",
       "1  Suspected serious injury (A)  Motor vehicle driver           44   \n",
       "2           Possible injury (C)  Motor vehicle driver  DOB invalid   \n",
       "3    Suspected minor injury (B)  Motor vehicle driver  DOB invalid   \n",
       "4                 No injury (O)  Motor vehicle driver  DOB invalid   \n",
       "\n",
       "      Person Gender  \n",
       "0  Uncoded & errors  \n",
       "1            Female  \n",
       "2  Uncoded & errors  \n",
       "3  Uncoded & errors  \n",
       "4  Uncoded & errors  "
      ]
     },
     "execution_count": 3,
     "metadata": {},
     "output_type": "execute_result"
    }
   ],
   "source": [
    "# loading the dataset\n",
    "dataset = pd.read_csv('ped_crashes.csv')\n",
    "dataset.head()"
   ]
  },
  {
   "cell_type": "code",
   "execution_count": null,
   "metadata": {},
   "outputs": [
    {
     "data": {
      "text/plain": [
       "(6809, 15)"
      ]
     },
     "execution_count": 4,
     "metadata": {},
     "output_type": "execute_result"
    }
   ],
   "source": [
    "dataset.shape"
   ]
  },
  {
   "cell_type": "code",
   "execution_count": null,
   "metadata": {},
   "outputs": [
    {
     "data": {
      "text/plain": [
       "Index(['Crash Year', 'Crash Month', 'Crash Day', 'Time of Day', 'Day of Week',\n",
       "       'City or Township', 'Crash: Intersection', 'Crash: Hit-and-Run',\n",
       "       'Lighting Conditions', 'Weather Conditions (2016+)',\n",
       "       'Speed Limit at Crash Site', 'Worst Injury in Crash', 'Party Type',\n",
       "       'Person Age', 'Person Gender'],\n",
       "      dtype='object')"
      ]
     },
     "execution_count": 5,
     "metadata": {},
     "output_type": "execute_result"
    }
   ],
   "source": [
    "dataset.columns"
   ]
  },
  {
   "cell_type": "code",
   "execution_count": null,
   "metadata": {},
   "outputs": [],
   "source": [
    "dataset.rename(columns={'Crash Year':'Crash_Year','Crash Month':'Crash_Month','Crash Day':'Crash_Day','Time of Day':'Time_of_Day','Day of Week':'Day_of_Week','City or Township':'City_or_Township'},inplace=True)"
   ]
  },
  {
   "cell_type": "code",
   "execution_count": null,
   "metadata": {},
   "outputs": [
    {
     "data": {
      "text/plain": [
       "Crash_Year                     int64\n",
       "Crash_Month                   object\n",
       "Crash_Day                      int64\n",
       "Time_of_Day                   object\n",
       "Day_of_Week                   object\n",
       "City_or_Township              object\n",
       "Crash: Intersection           object\n",
       "Crash: Hit-and-Run            object\n",
       "Lighting Conditions           object\n",
       "Weather Conditions (2016+)    object\n",
       "Speed Limit at Crash Site     object\n",
       "Worst Injury in Crash         object\n",
       "Party Type                    object\n",
       "Person Age                    object\n",
       "Person Gender                 object\n",
       "dtype: object"
      ]
     },
     "execution_count": 7,
     "metadata": {},
     "output_type": "execute_result"
    }
   ],
   "source": [
    "dataset.dtypes"
   ]
  },
  {
   "cell_type": "code",
   "execution_count": null,
   "metadata": {},
   "outputs": [
    {
     "name": "stdout",
     "output_type": "stream",
     "text": [
      "<class 'pandas.core.frame.DataFrame'>\n",
      "RangeIndex: 6809 entries, 0 to 6808\n",
      "Data columns (total 15 columns):\n",
      " #   Column                      Non-Null Count  Dtype \n",
      "---  ------                      --------------  ----- \n",
      " 0   Crash_Year                  6809 non-null   int64 \n",
      " 1   Crash_Month                 6809 non-null   object\n",
      " 2   Crash_Day                   6809 non-null   int64 \n",
      " 3   Time_of_Day                 6809 non-null   object\n",
      " 4   Day_of_Week                 6809 non-null   object\n",
      " 5   City_or_Township            6809 non-null   object\n",
      " 6   Crash: Intersection         6809 non-null   object\n",
      " 7   Crash: Hit-and-Run          6809 non-null   object\n",
      " 8   Lighting Conditions         6809 non-null   object\n",
      " 9   Weather Conditions (2016+)  6809 non-null   object\n",
      " 10  Speed Limit at Crash Site   6809 non-null   object\n",
      " 11  Worst Injury in Crash       6809 non-null   object\n",
      " 12  Party Type                  6809 non-null   object\n",
      " 13  Person Age                  6809 non-null   object\n",
      " 14  Person Gender               6809 non-null   object\n",
      "dtypes: int64(2), object(13)\n",
      "memory usage: 798.1+ KB\n"
     ]
    }
   ],
   "source": [
    "dataset.info()"
   ]
  },
  {
   "cell_type": "code",
   "execution_count": null,
   "metadata": {},
   "outputs": [
    {
     "data": {
      "text/plain": [
       "Crash_Year                    0\n",
       "Crash_Month                   0\n",
       "Crash_Day                     0\n",
       "Time_of_Day                   0\n",
       "Day_of_Week                   0\n",
       "City_or_Township              0\n",
       "Crash: Intersection           0\n",
       "Crash: Hit-and-Run            0\n",
       "Lighting Conditions           0\n",
       "Weather Conditions (2016+)    0\n",
       "Speed Limit at Crash Site     0\n",
       "Worst Injury in Crash         0\n",
       "Party Type                    0\n",
       "Person Age                    0\n",
       "Person Gender                 0\n",
       "dtype: int64"
      ]
     },
     "execution_count": 9,
     "metadata": {},
     "output_type": "execute_result"
    }
   ],
   "source": [
    "dataset.isnull().sum()"
   ]
  },
  {
   "cell_type": "code",
   "execution_count": null,
   "metadata": {},
   "outputs": [
    {
     "name": "stdout",
     "output_type": "stream",
     "text": [
      "Unique values in each column : \n",
      "Crash Year :  [2018 2017 2016 2015 2014 2013 2012 2011 2010] \n",
      "\n",
      "Crash Month :  ['February' 'March' 'April' 'May' 'June' 'July' 'August' 'September'\n",
      " 'October' 'November' 'December' 'January'] \n",
      "\n",
      "Crash Day :  [ 1  2  3  4  5  6  7  8  9 10 11 12 13 14 15 16 17 18 19 20 21 22 23 24\n",
      " 25 26 27 28 29 30 31]\n",
      "Time of Day :  ['9:00 AM - 10:00 AM' '7:00 PM - 8:00 PM' '11:00 AM - 12:00 noon'\n",
      " '6:00 PM - 7:00 PM' '2:00 PM - 3:00 PM' '1:00 PM - 2:00 PM'\n",
      " '8:00 AM - 9:00 AM' '3:00 PM - 4:00 PM' '8:00 PM - 9:00 PM'\n",
      " '10:00 PM - 11:00 PM' '12:00 noon - 1:00 PM' '5:00 PM - 6:00 PM'\n",
      " '11:00 PM - 12:00 midnight' '7:00 AM - 8:00 AM' '5:00 AM - 6:00 AM'\n",
      " '10:00 AM - 11:00 AM' '9:00 PM - 10:00 PM' '4:00 PM - 5:00 PM'\n",
      " '2:00 AM - 3:00 AM' '4:00 AM - 5:00 AM' '1:00 AM - 2:00 AM'\n",
      " '12:00 midnight - 1:00 AM' '3:00 AM - 4:00 AM' '6:00 AM - 7:00 AM'\n",
      " 'Unknown']\n",
      "Day of Week :  ['Thursday' 'Sunday' 'Tuesday' 'Friday' 'Wednesday' 'Saturday' 'Monday']\n",
      "Crash: Intersection :  ['Not intersection crash' 'Intersection crash']\n"
     ]
    }
   ],
   "source": [
    "print(\"Unique values in each column : \")\n",
    "print(\"Crash Year : \",dataset['Crash_Year'].unique(),\"\\n\")\n",
    "print(\"Crash Month : \",dataset['Crash_Month'].unique(),\"\\n\")\n",
    "print(\"Crash Day : \",dataset['Crash_Day'].unique())\n",
    "print(\"Time of Day : \",dataset['Time_of_Day'].unique())\n",
    "print(\"Day of Week : \",dataset['Day_of_Week'].unique())\n",
    "# print(\"City or Township : \",dataset['City_or_Township'].unique())\n",
    "print(\"Crash: Intersection : \",dataset['Crash: Intersection'].unique())"
   ]
  },
  {
   "cell_type": "code",
   "execution_count": null,
   "metadata": {},
   "outputs": [
    {
     "data": {
      "text/plain": [
       "Index(['Crash_Year', 'Crash_Month', 'Crash_Day', 'Time_of_Day', 'Day_of_Week',\n",
       "       'City_or_Township', 'Crash: Intersection', 'Crash: Hit-and-Run',\n",
       "       'Lighting Conditions', 'Weather Conditions (2016+)',\n",
       "       'Speed Limit at Crash Site', 'Worst Injury in Crash', 'Party Type',\n",
       "       'Person Age', 'Person Gender'],\n",
       "      dtype='object')"
      ]
     },
     "execution_count": 11,
     "metadata": {},
     "output_type": "execute_result"
    }
   ],
   "source": [
    "dataset.columns"
   ]
  },
  {
   "cell_type": "code",
   "execution_count": null,
   "metadata": {},
   "outputs": [],
   "source": [
    "#splitting the datasets on the basis of year\n",
    "dataset_2018 = dataset[dataset['Crash_Year']==2018]\n",
    "dataset_2018.to_csv('2018 crash data.csv')\n",
    "dataset_2017 = dataset[dataset['Crash_Year']==2017]\n",
    "dataset_2017.to_csv('2017 crash data.csv')\n",
    "dataset_2016 = dataset[dataset['Crash_Year']==2016]\n",
    "dataset_2016.to_csv('2016 crash data.csv')\n",
    "dataset_2015 = dataset[dataset['Crash_Year']==2015]\n",
    "dataset_2015.to_csv('2015 crash data.csv')\n",
    "dataset_2014 = dataset[dataset['Crash_Year']==2014]\n",
    "dataset_2014.to_csv('2014 crash data.csv')\n",
    "dataset_2013 = dataset[dataset['Crash_Year']==2013]\n",
    "dataset_2013.to_csv('2013 crash data.csv')\n",
    "dataset_2012 = dataset[dataset['Crash_Year']==2012]\n",
    "dataset_2012.to_csv('2012 crash data.csv')\n",
    "dataset_2011 = dataset[dataset['Crash_Year']==2011]\n",
    "dataset_2011.to_csv('2011 crash data.csv')\n",
    "dataset_2010 = dataset[dataset['Crash_Year']==2010]\n",
    "dataset_2010.to_csv('2010 crash data.csv')"
   ]
  },
  {
   "cell_type": "code",
   "execution_count": null,
   "metadata": {},
   "outputs": [
    {
     "data": {
      "text/plain": [
       "Text(0.5, 1.0, 'Lighting Conditions')"
      ]
     },
     "execution_count": 13,
     "metadata": {},
     "output_type": "execute_result"
    },
    {
     "data": {
      "image/png": "[encoded data removed]",
      "text/plain": [
       "<Figure size 640x480 with 1 Axes>"
      ]
     },
     "metadata": {},
     "output_type": "display_data"
    }
   ],
   "source": [
    "dataset.groupby('Lighting Conditions').size().plot(kind='pie',subplots=True)\n",
    "plt.title('Lighting Conditions')"
   ]
  },
  {
   "cell_type": "code",
   "execution_count": null,
   "metadata": {},
   "outputs": [
    {
     "data": {
      "text/plain": [
       "Text(0.5, 1.0, 'Person Gender')"
      ]
     },
     "execution_count": 14,
     "metadata": {},
     "output_type": "execute_result"
    },
    {
     "data": {
      "image/png": "[encoded data removed]",
      "text/plain": [
       "<Figure size 640x480 with 1 Axes>"
      ]
     },
     "metadata": {},
     "output_type": "display_data"
    }
   ],
   "source": [
    "dataset.groupby('Person Gender').size().plot(kind='pie',subplots=True)\n",
    "plt.title('Person Gender')"
   ]
  },
  {
   "cell_type": "code",
   "execution_count": null,
   "metadata": {},
   "outputs": [
    {
     "data": {
      "image/png": "[encoded data removed]",
      "text/plain": [
       "<Figure size 640x480 with 1 Axes>"
      ]
     },
     "metadata": {},
     "output_type": "display_data"
    }
   ],
   "source": [
    "dataset.groupby('Day_of_Week').size().plot(kind='pie',subplots=True)\n",
    "my_circle=plt.Circle( (0,0), 0.7, color='white')\n",
    "p=plt.gcf()\n",
    "p.gca().add_artist(my_circle)\n",
    "plt.title('Day of the Week')\n",
    "plt.show()"
   ]
  },
  {
   "cell_type": "code",
   "execution_count": null,
   "metadata": {},
   "outputs": [],
   "source": []
  }
 ],
 "metadata": {
  "kernelspec": {
   "display_name": "Python 3",
   "language": "python",
   "name": "python3"
  },
  "language_info": {
   "codemirror_mode": {
    "name": "ipython",
    "version": 3
   },
   "file_extension": ".py",
   "mimetype": "text/x-python",
   "name": "python",
   "nbconvert_exporter": "python",
   "pygments_lexer": "ipython3",
   "version": "3.10.10"
  },
  "orig_nbformat": 4,
  "vscode": {
   "interpreter": {
    "hash": "486e0d5a79acdbfffd563ee7a67a93a5017bd2a4f66495483a69f0245c8a4a6c"
   }
  }
 },
 "nbformat": 4,
 "nbformat_minor": 2
}
